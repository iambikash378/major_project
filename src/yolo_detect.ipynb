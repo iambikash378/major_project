{
  "cells": [
    {
      "cell_type": "code",
      "execution_count": null,
      "metadata": {
        "id": "OGXuOMxAY9eo",
        "colab": {
          "base_uri": "https://localhost:8080/"
        },
        "outputId": "1bc5d667-47d2-4f64-e715-ef0d8e50e241"
      },
      "outputs": [
        {
          "output_type": "stream",
          "name": "stdout",
          "text": [
            "Mounted at /content/drive\n"
          ]
        }
      ],
      "source": [
        "from google.colab import drive\n",
        "drive.mount('/content/drive')"
      ]
    },
    {
      "cell_type": "code",
      "execution_count": null,
      "metadata": {
        "id": "UuDbbhe9aMWo"
      },
      "outputs": [],
      "source": [
        "import os\n",
        "import cv2"
      ]
    },
    {
      "cell_type": "markdown",
      "metadata": {
        "id": "7KIeXay4Y8ix"
      },
      "source": [
        "# Converting Segmentation Masks to Bounding Boxes in YOLO Format"
      ]
    },
    {
      "cell_type": "markdown",
      "metadata": {
        "id": "qcEX19LidjtP"
      },
      "source": [
        "Input : Directory where the masks are in .png format  \n",
        "Output : Directory where YOLO Annotations are in .txt format"
      ]
    },
    {
      "cell_type": "code",
      "execution_count": null,
      "metadata": {
        "id": "x2UTsQ2lY3UL"
      },
      "outputs": [],
      "source": [
        "def convert_png_to_yolo(input_filepath, output_filepath, class_id = 0):\n",
        "\n",
        "  img = cv2.imread(input_filepath, cv2.IMREAD_GRAYSCALE)\n",
        "  contours , _ = cv2.findContours(img, cv2.RETR_EXTERNAL, cv2.CHAIN_APPROX_SIMPLE)\n",
        "\n",
        "  output_dir = os.path.dirname(output_filepath)\n",
        "  if not os.path.exists(output_dir):\n",
        "    os.makedirs(output_dir)\n",
        "\n",
        "  with open(output_filepath, 'w') as f:\n",
        "    for contour in contours:\n",
        "      x,y,w,h = cv2.boundingRect(contour)\n",
        "\n",
        "      #Normalizing Coordinates in the range [0,1]\n",
        "\n",
        "      img_width, img_height = img.shape[1], img.shape[0]\n",
        "      x_center = (x + w/2)/img_width\n",
        "      y_center = (y + h/2)/img_height\n",
        "      width = w / img_width\n",
        "      height = h / img_height\n",
        "\n",
        "      f.write(f\"{class_id} {x_center} {y_center} {width} {height}\\n\")\n",
        "\n",
        "\n",
        "def convert_labels(input_dir, output_dir):\n",
        "  for eachfile in os.listdir(input_dir):\n",
        "    if eachfile.endswith('.png'):\n",
        "      png_filepath = os.path.join(input_dir, eachfile)\n",
        "      txt_filepath = os.path.join(output_dir, eachfile.replace('.png','.txt'))\n",
        "\n",
        "      convert_png_to_yolo(png_filepath, txt_filepath)\n"
      ]
    },
    {
      "cell_type": "code",
      "execution_count": null,
      "metadata": {
        "id": "0fxI0iNZeXC3"
      },
      "outputs": [],
      "source": [
        "train_mask_dir = \"/content/drive/MyDrive/Nepal landslide segmentation dataset/Training/label\"\n",
        "test_mask_dir = \"/content/drive/MyDrive/Nepal landslide segmentation dataset/Test/mask\"\n",
        "valid_mask_dir = \"/content/drive/MyDrive/Nepal landslide segmentation dataset/Validation/masks\"\n",
        "\n",
        "train_box_dir = \"/content/drive/MyDrive/dataset/labels/train_new\"\n",
        "test_box_dir = \"/content/drive/MyDrive/dataset/labels/test_new\"\n",
        "valid_box_dir = \"/content/drive/MyDrive/dataset/labels/val_new\""
      ]
    },
    {
      "cell_type": "code",
      "execution_count": null,
      "metadata": {
        "id": "G1fddJbKec0y"
      },
      "outputs": [],
      "source": [
        "convert_labels(train_mask_dir, train_box_dir)\n",
        "convert_labels(test_mask_dir, test_box_dir)\n",
        "convert_labels(valid_mask_dir, valid_box_dir)"
      ]
    },
    {
      "cell_type": "markdown",
      "source": [
        "# Exploring the .tiff data"
      ],
      "metadata": {
        "id": "jKzY458iswKJ"
      }
    },
    {
      "cell_type": "code",
      "execution_count": null,
      "metadata": {
        "colab": {
          "base_uri": "https://localhost:8080/"
        },
        "id": "IJBx-3pnzan0",
        "outputId": "dfc92c16-dfd9-4bcf-f2b8-075dd9e1a759"
      },
      "outputs": [
        {
          "output_type": "stream",
          "name": "stdout",
          "text": [
            "Collecting rasterio\n",
            "  Downloading rasterio-1.4.3-cp311-cp311-manylinux_2_17_x86_64.manylinux2014_x86_64.whl.metadata (9.1 kB)\n",
            "Collecting affine (from rasterio)\n",
            "  Downloading affine-2.4.0-py3-none-any.whl.metadata (4.0 kB)\n",
            "Requirement already satisfied: attrs in /usr/local/lib/python3.11/dist-packages (from rasterio) (24.3.0)\n",
            "Requirement already satisfied: certifi in /usr/local/lib/python3.11/dist-packages (from rasterio) (2024.12.14)\n",
            "Requirement already satisfied: click>=4.0 in /usr/local/lib/python3.11/dist-packages (from rasterio) (8.1.8)\n",
            "Collecting cligj>=0.5 (from rasterio)\n",
            "  Downloading cligj-0.7.2-py3-none-any.whl.metadata (5.0 kB)\n",
            "Requirement already satisfied: numpy>=1.24 in /usr/local/lib/python3.11/dist-packages (from rasterio) (1.26.4)\n",
            "Collecting click-plugins (from rasterio)\n",
            "  Downloading click_plugins-1.1.1-py2.py3-none-any.whl.metadata (6.4 kB)\n",
            "Requirement already satisfied: pyparsing in /usr/local/lib/python3.11/dist-packages (from rasterio) (3.2.1)\n",
            "Downloading rasterio-1.4.3-cp311-cp311-manylinux_2_17_x86_64.manylinux2014_x86_64.whl (22.2 MB)\n",
            "\u001b[2K   \u001b[90m━━━━━━━━━━━━━━━━━━━━━━━━━━━━━━━━━━━━━━━━\u001b[0m \u001b[32m22.2/22.2 MB\u001b[0m \u001b[31m44.5 MB/s\u001b[0m eta \u001b[36m0:00:00\u001b[0m\n",
            "\u001b[?25hDownloading cligj-0.7.2-py3-none-any.whl (7.1 kB)\n",
            "Downloading affine-2.4.0-py3-none-any.whl (15 kB)\n",
            "Downloading click_plugins-1.1.1-py2.py3-none-any.whl (7.5 kB)\n",
            "Installing collected packages: cligj, click-plugins, affine, rasterio\n",
            "Successfully installed affine-2.4.0 click-plugins-1.1.1 cligj-0.7.2 rasterio-1.4.3\n",
            "Metadata : \n",
            " {'driver': 'GTiff', 'dtype': 'uint8', 'nodata': None, 'width': 179, 'height': 158, 'count': 3, 'crs': None, 'transform': Affine(1.0, 0.0, 0.0,\n",
            "       0.0, 1.0, 0.0)}\n",
            "Number of bands: 3\n",
            "Image size (width x height): 179 x 158\n",
            "Coordinate Reference System (CRS): None\n",
            "Bounds: BoundingBox(left=0.0, bottom=158.0, right=179.0, top=0.0)\n"
          ]
        },
        {
          "output_type": "stream",
          "name": "stderr",
          "text": [
            "/usr/local/lib/python3.11/dist-packages/rasterio/__init__.py:356: NotGeoreferencedWarning: Dataset has no geotransform, gcps, or rpcs. The identity matrix will be returned.\n",
            "  dataset = DatasetReader(path, driver=driver, sharing=sharing, **kwargs)\n"
          ]
        }
      ],
      "source": [
        "!pip install rasterio\n",
        "\n",
        "import rasterio as r\n",
        "import matplotlib.pyplot as plt\n",
        "import numpy as np\n",
        "from rasterio.plot import show\n",
        "\n",
        "tiff_file = '/content/drive/MyDrive/major_proj/dataset_original_tiff/images/train/b_COMP_0_1.tiff'\n",
        "\n",
        "with r.open(tiff_file) as src:\n",
        "  print(f\"Metadata : \\n {src.meta}\")\n",
        "  tiff_data = src.read()\n",
        "\n",
        "print(\"Number of bands:\", src.count)         # Number of bands\n",
        "print(\"Image size (width x height):\", src.width, \"x\", src.height)\n",
        "print(\"Coordinate Reference System (CRS):\", src.crs)  # Spatial reference\n",
        "print(\"Bounds:\", src.bounds)                # Geospatial bounds\n",
        "\n",
        "\n"
      ]
    },
    {
      "cell_type": "markdown",
      "source": [
        "## Converting .tiff format to .jpg\n"
      ],
      "metadata": {
        "id": "b0qp2TXPrVQO"
      }
    },
    {
      "cell_type": "code",
      "source": [
        "from PIL import Image\n",
        "import os"
      ],
      "metadata": {
        "id": "bqJ-XeTsresu"
      },
      "execution_count": null,
      "outputs": []
    },
    {
      "cell_type": "code",
      "execution_count": null,
      "metadata": {
        "id": "M8UIcY8j0BeT"
      },
      "outputs": [],
      "source": [
        "\n",
        "image_dir = '/content/drive/MyDrive/dataset/images/train'\n",
        "output_dir = '/content/drive/MyDrive/dataset/images/train_jpg'\n",
        "\n",
        "for filename in os.listdir(image_dir):\n",
        "  if filename.endswith('.tiff'):\n",
        "    image_path = os.path.join(image_dir,filename)\n",
        "    output_path = os.path.join(output_dir, filename.replace('.tiff','.jpg'))\n",
        "    image = Image.open(image_path)\n",
        "    image.save(output_path, 'JPEG')\n"
      ]
    },
    {
      "cell_type": "code",
      "execution_count": null,
      "metadata": {
        "id": "o2gmLpY313KO"
      },
      "outputs": [],
      "source": [
        "image_dir = '/content/drive/MyDrive/dataset/images/test'\n",
        "output_dir = '/content/drive/MyDrive/dataset/images/test_jpg'\n",
        "\n",
        "for filename in os.listdir(image_dir):\n",
        "  if filename.endswith('.tiff'):\n",
        "    image_path = os.path.join(image_dir,filename)\n",
        "    output_path = os.path.join(output_dir, filename.replace('.tiff','.jpg'))\n",
        "    image = Image.open(image_path)\n",
        "    image.save(output_path, 'JPEG')"
      ]
    },
    {
      "cell_type": "code",
      "execution_count": null,
      "metadata": {
        "id": "o7bfEOjt2FU3"
      },
      "outputs": [],
      "source": [
        "image_dir = '/content/drive/MyDrive/dataset/images/val'\n",
        "output_dir = '/content/drive/MyDrive/dataset/images/val_jpg'\n",
        "\n",
        "for filename in os.listdir(image_dir):\n",
        "  if filename.endswith('.tiff'):\n",
        "    image_path = os.path.join(image_dir,filename)\n",
        "    output_path = os.path.join(output_dir, filename.replace('.tiff','.jpg'))\n",
        "    image = Image.open(image_path)\n",
        "    image.save(output_path, 'JPEG')"
      ]
    },
    {
      "cell_type": "markdown",
      "source": [
        "# Making sure the source and labels have the same name"
      ],
      "metadata": {
        "id": "Y4Dbc8GdrxOM"
      }
    },
    {
      "cell_type": "code",
      "execution_count": null,
      "metadata": {
        "colab": {
          "base_uri": "https://localhost:8080/"
        },
        "id": "aurQogAfXCM9",
        "outputId": "dbf579b0-83b4-4ddb-d5f4-8c6e61981617"
      },
      "outputs": [
        {
          "name": "stdout",
          "output_type": "stream",
          "text": [
            "Copied and renamed: COMP_1_1_mask.txt -> b_COMP_1_1.txt\n",
            "Copied and renamed: COMP_2_3_mask.txt -> b_COMP_2_3.txt\n",
            "Copied and renamed: COMP_2_4_mask.txt -> b_COMP_2_4.txt\n",
            "Copied and renamed: COMP_5_1_mask.txt -> b_COMP_5_1.txt\n",
            "Copied and renamed: COMP_5_2_mask.txt -> b_COMP_5_2.txt\n",
            "Copied and renamed: COMP_5_4_mask.txt -> b_COMP_5_4.txt\n",
            "Copied and renamed: COMP_5_7_mask.txt -> b_COMP_5_7.txt\n",
            "Copied and renamed: COMP_5_10_mask.txt -> b_COMP_5_10.txt\n",
            "Copied and renamed: COMP_5_12_mask.txt -> b_COMP_5_12.txt\n",
            "Copied and renamed: COMP_5_15_mask.txt -> b_COMP_5_15.txt\n",
            "Copied and renamed: COMP_5_16_mask.txt -> b_COMP_5_16.txt\n",
            "Copied and renamed: COMP_5_18_mask.txt -> b_COMP_5_18.txt\n",
            "Copied and renamed: COMP_5_20_mask.txt -> b_COMP_5_20.txt\n",
            "Copied and renamed: COMP_5_21_mask.txt -> b_COMP_5_21.txt\n",
            "Copied and renamed: COMP_5_23_mask.txt -> b_COMP_5_23.txt\n",
            "Copied and renamed: COMP_5_25_mask.txt -> b_COMP_5_25.txt\n",
            "Copied and renamed: COMP_5_26_mask.txt -> b_COMP_5_26.txt\n",
            "Copied and renamed: COMP_5_31_mask.txt -> b_COMP_5_31.txt\n",
            "Copied and renamed: COMP_5_32_mask.txt -> b_COMP_5_32.txt\n",
            "Copied and renamed: COMP_5_35_mask.txt -> b_COMP_5_35.txt\n",
            "Copied and renamed: COMP_5_43_mask.txt -> b_COMP_5_43.txt\n",
            "Copied and renamed: COMP_5_50_mask.txt -> b_COMP_5_50.txt\n",
            "Copied and renamed: COMP_5_52_mask.txt -> b_COMP_5_52.txt\n",
            "Copied and renamed: COMP_5_55_mask.txt -> b_COMP_5_55.txt\n",
            "Copied and renamed: COMP_5_58_mask.txt -> b_COMP_5_58.txt\n",
            "Copied and renamed: COMP_5_59_mask.txt -> b_COMP_5_59.txt\n",
            "Copied and renamed: COMP_5_61_mask.txt -> b_COMP_5_61.txt\n",
            "Copied and renamed: COMP_5_63_mask.txt -> b_COMP_5_63.txt\n",
            "Copied and renamed: COMP_5_64_mask.txt -> b_COMP_5_64.txt\n",
            "Copied and renamed: COMP_6_1_mask.txt -> b_COMP_6_1.txt\n",
            "Copied and renamed: COMP_6_4_mask.txt -> b_COMP_6_4.txt\n",
            "Copied and renamed: COMP_6_5_mask.txt -> b_COMP_6_5.txt\n",
            "Copied and renamed: COMP_6_7_mask.txt -> b_COMP_6_7.txt\n",
            "Copied and renamed: COMP_6_11_mask.txt -> b_COMP_6_11.txt\n",
            "Copied and renamed: COMP_6_12_mask.txt -> b_COMP_6_12.txt\n",
            "Copied and renamed: COMP_6_13_mask.txt -> b_COMP_6_13.txt\n",
            "Copied and renamed: COMP_6_14_mask.txt -> b_COMP_6_14.txt\n",
            "Copied and renamed: COMP_7_1_mask.txt -> b_COMP_7_1.txt\n",
            "Copied and renamed: COMP_7_5_mask.txt -> b_COMP_7_5.txt\n",
            "Copied and renamed: COMP_7_7_mask.txt -> b_COMP_7_7.txt\n",
            "Copied and renamed: COMP_7_9_mask.txt -> b_COMP_7_9.txt\n",
            "Copied and renamed: COMP_7_10_mask.txt -> b_COMP_7_10.txt\n",
            "Copied and renamed: COMP_7_11_mask.txt -> b_COMP_7_11.txt\n",
            "Copied and renamed: COMP_7_14_mask.txt -> b_COMP_7_14.txt\n",
            "Copied and renamed: COMP_8_1_mask.txt -> b_COMP_8_1.txt\n",
            "Copied and renamed: COMP_8_3_mask.txt -> b_COMP_8_3.txt\n",
            "Copied and renamed: COMP_8_4_mask.txt -> b_COMP_8_4.txt\n",
            "Copied and renamed: COMP_8_5_mask.txt -> b_COMP_8_5.txt\n",
            "Copied and renamed: COMP_8_7_mask.txt -> b_COMP_8_7.txt\n",
            "Copied and renamed: COMP_8_11_mask.txt -> b_COMP_8_11.txt\n",
            "Copied and renamed: COMP_8_15_mask.txt -> b_COMP_8_15.txt\n",
            "Copied and renamed: COMP_8_17_mask.txt -> b_COMP_8_17.txt\n",
            "Copied and renamed: COMP_8_18_mask.txt -> b_COMP_8_18.txt\n",
            "Copied and renamed: COMP_9_4_mask.txt -> b_COMP_9_4.txt\n",
            "Copied and renamed: COMP_9_5_mask.txt -> b_COMP_9_5.txt\n",
            "Copied and renamed: COMP_9_7_mask.txt -> b_COMP_9_7.txt\n",
            "Copied and renamed: COMP_9_9_mask.txt -> b_COMP_9_9.txt\n",
            "Copied and renamed: COMP_9_11_mask.txt -> b_COMP_9_11.txt\n",
            "Copied and renamed: COMP_9_13_mask.txt -> b_COMP_9_13.txt\n",
            "Copied and renamed: COMP_9_14_mask.txt -> b_COMP_9_14.txt\n",
            "Copied and renamed: COMP_9_19_mask.txt -> b_COMP_9_19.txt\n",
            "Copied and renamed: COMP_9_20_mask.txt -> b_COMP_9_20.txt\n",
            "Copied and renamed: COMP_9_21_mask.txt -> b_COMP_9_21.txt\n",
            "Copied and renamed: COMP_9_25_mask.txt -> b_COMP_9_25.txt\n",
            "Copied and renamed: COMP_9_26_mask.txt -> b_COMP_9_26.txt\n",
            "Copied and renamed: COMP_9_27_mask.txt -> b_COMP_9_27.txt\n",
            "Copied and renamed: COMP_9_28_mask.txt -> b_COMP_9_28.txt\n",
            "Copied and renamed: COMP_9_29_mask.txt -> b_COMP_9_29.txt\n",
            "Copied and renamed: COMP_9_30_mask.txt -> b_COMP_9_30.txt\n",
            "Copied and renamed: COMP_10_2_mask.txt -> b_COMP_10_2.txt\n",
            "Copied and renamed: COMP_10_9_mask.txt -> b_COMP_10_9.txt\n",
            "Copied and renamed: COMP_10_10_mask.txt -> b_COMP_10_10.txt\n",
            "Copied and renamed: COMP_10_12_mask.txt -> b_COMP_10_12.txt\n",
            "Copied and renamed: COMP_10_13_mask.txt -> b_COMP_10_13.txt\n",
            "Copied and renamed: COMP_10_21_mask.txt -> b_COMP_10_21.txt\n",
            "Copied and renamed: COMP_10_22_mask.txt -> b_COMP_10_22.txt\n",
            "Copied and renamed: COMP_10_25_mask.txt -> b_COMP_10_25.txt\n",
            "Copied and renamed: COMP_10_26_mask.txt -> b_COMP_10_26.txt\n",
            "Copied and renamed: COMP_10_28_mask.txt -> b_COMP_10_28.txt\n",
            "Copied and renamed: COMP_11_52_mask.txt -> b_COMP_11_52.txt\n",
            "Copied and renamed: COMP_11_53_mask.txt -> b_COMP_11_53.txt\n",
            "Copied and renamed: COMP_11_65_mask.txt -> b_COMP_11_65.txt\n",
            "Copied and renamed: COMP_11_66_mask.txt -> b_COMP_11_66.txt\n",
            "Copied and renamed: COMP_11_71_mask.txt -> b_COMP_11_71.txt\n",
            "Copied and renamed: COMP_11_72_mask.txt -> b_COMP_11_72.txt\n",
            "Copied and renamed: COMP_12_2_mask.txt -> b_COMP_12_2.txt\n",
            "Copied and renamed: COMP_12_3_mask.txt -> b_COMP_12_3.txt\n",
            "Copied and renamed: COMP_12_5_mask.txt -> b_COMP_12_5.txt\n",
            "Copied and renamed: COMP_12_6_mask.txt -> b_COMP_12_6.txt\n",
            "Copied and renamed: COMP_12_8_mask.txt -> b_COMP_12_8.txt\n",
            "Copied and renamed: COMP_12_12_mask.txt -> b_COMP_12_12.txt\n",
            "Copied and renamed: COMP_12_13_mask.txt -> b_COMP_12_13.txt\n",
            "Copied and renamed: COMP_12_17_mask.txt -> b_COMP_12_17.txt\n",
            "Copied and renamed: COMP_12_24_mask.txt -> b_COMP_12_24.txt\n",
            "Copied and renamed: COMP_13_1_mask.txt -> b_COMP_13_1.txt\n",
            "Copied and renamed: COMP_13_3_mask.txt -> b_COMP_13_3.txt\n",
            "Copied and renamed: COMP_13_5_mask.txt -> b_COMP_13_5.txt\n",
            "Copied and renamed: COMP_13_9_mask.txt -> b_COMP_13_9.txt\n",
            "Copied and renamed: COMP_13_10_mask.txt -> b_COMP_13_10.txt\n",
            "Copied and renamed: COMP_13_12_mask.txt -> b_COMP_13_12.txt\n",
            "Copied and renamed: COMP_13_15_mask.txt -> b_COMP_13_15.txt\n",
            "Copied and renamed: COMP_13_17_mask.txt -> b_COMP_13_17.txt\n",
            "Copied and renamed: COMP_13_20_mask.txt -> b_COMP_13_20.txt\n",
            "Copied and renamed: COMP_13_24_mask.txt -> b_COMP_13_24.txt\n",
            "Copied and renamed: COMP_13_25_mask.txt -> b_COMP_13_25.txt\n",
            "Copied and renamed: COMP_14_3_mask.txt -> b_COMP_14_3.txt\n",
            "Copied and renamed: COMP_14_6_mask.txt -> b_COMP_14_6.txt\n",
            "Copied and renamed: COMP_14_7_mask.txt -> b_COMP_14_7.txt\n",
            "Copied and renamed: COMP_14_8_mask.txt -> b_COMP_14_8.txt\n",
            "Copied and renamed: COMP_14_9_mask.txt -> b_COMP_14_9.txt\n",
            "Copied and renamed: COMP_14_10_mask.txt -> b_COMP_14_10.txt\n",
            "Copied and renamed: COMP_14_12_mask.txt -> b_COMP_14_12.txt\n",
            "Copied and renamed: COMP_14_13_mask.txt -> b_COMP_14_13.txt\n",
            "Copied and renamed: COMP_14_15_mask.txt -> b_COMP_14_15.txt\n",
            "Copied and renamed: COMP_14_16_mask.txt -> b_COMP_14_16.txt\n",
            "Copied and renamed: COMP_14_19_mask.txt -> b_COMP_14_19.txt\n",
            "Copied and renamed: COMP_14_24_mask.txt -> b_COMP_14_24.txt\n",
            "Copied and renamed: COMP_14_25_mask.txt -> b_COMP_14_25.txt\n",
            "Copied and renamed: COMP_14_27_mask.txt -> b_COMP_14_27.txt\n",
            "Copied and renamed: COMP_14_28_mask.txt -> b_COMP_14_28.txt\n",
            "Copied and renamed: COMP_14_30_mask.txt -> b_COMP_14_30.txt\n",
            "Copied and renamed: COMP_15_1_mask.txt -> b_COMP_15_1.txt\n",
            "Copied and renamed: COMP_15_2_mask.txt -> b_COMP_15_2.txt\n",
            "Copied and renamed: COMP_15_4_mask.txt -> b_COMP_15_4.txt\n",
            "Copied and renamed: COMP_15_5_mask.txt -> b_COMP_15_5.txt\n",
            "Copied and renamed: COMP_15_7_mask.txt -> b_COMP_15_7.txt\n",
            "Copied and renamed: COMP_15_8_mask.txt -> b_COMP_15_8.txt\n",
            "Copied and renamed: COMP_15_12_mask.txt -> b_COMP_15_12.txt\n",
            "Copied and renamed: COMP_15_14_mask.txt -> b_COMP_15_14.txt\n",
            "Copied and renamed: COMP_15_15_mask.txt -> b_COMP_15_15.txt\n",
            "Copied and renamed: COMP_16_2_mask.txt -> b_COMP_16_2.txt\n",
            "Copied and renamed: COMP_16_3_mask.txt -> b_COMP_16_3.txt\n",
            "Copied and renamed: COMP_16_4_mask.txt -> b_COMP_16_4.txt\n",
            "Copied and renamed: COMP_16_5_mask.txt -> b_COMP_16_5.txt\n",
            "Copied and renamed: COMP_16_6_mask.txt -> b_COMP_16_6.txt\n",
            "Copied and renamed: COMP_17_2_mask.txt -> b_COMP_17_2.txt\n",
            "Copied and renamed: COMP_17_3_mask.txt -> b_COMP_17_3.txt\n",
            "Copied and renamed: COMP_17_4_mask.txt -> b_COMP_17_4.txt\n",
            "Copied and renamed: COMP_17_11_mask.txt -> b_COMP_17_11.txt\n",
            "Copied and renamed: COMP_17_13_mask.txt -> b_COMP_17_13.txt\n",
            "Copied and renamed: COMP_17_16_mask.txt -> b_COMP_17_16.txt\n",
            "Copied and renamed: COMP_17_17_mask.txt -> b_COMP_17_17.txt\n",
            "Copied and renamed: COMP_17_18_mask.txt -> b_COMP_17_18.txt\n",
            "Copied and renamed: COMP_17_20_mask.txt -> b_COMP_17_20.txt\n",
            "Copied and renamed: COMP_17_21_mask.txt -> b_COMP_17_21.txt\n",
            "Copied and renamed: COMP_17_23_mask.txt -> b_COMP_17_23.txt\n",
            "Copied and renamed: COMP_17_24_mask.txt -> b_COMP_17_24.txt\n",
            "Copied and renamed: COMP_17_25_mask.txt -> b_COMP_17_25.txt\n",
            "Copied and renamed: COMP_17_26_mask.txt -> b_COMP_17_26.txt\n",
            "Copied and renamed: COMP_20_1_mask.txt -> b_COMP_20_1.txt\n",
            "Copied and renamed: COMP_21_4_mask.txt -> b_COMP_21_4.txt\n",
            "Copied and renamed: COMP_21_6_mask.txt -> b_COMP_21_6.txt\n",
            "Copied and renamed: COMP_21_8_mask.txt -> b_COMP_21_8.txt\n",
            "Copied and renamed: COMP_21_13_mask.txt -> b_COMP_21_13.txt\n",
            "Copied and renamed: COMP_21_14_mask.txt -> b_COMP_21_14.txt\n",
            "Copied and renamed: COMP_21_15_mask.txt -> b_COMP_21_15.txt\n",
            "Copied and renamed: COMP_21_16_mask.txt -> b_COMP_21_16.txt\n",
            "Copied and renamed: COMP_21_17_mask.txt -> b_COMP_21_17.txt\n",
            "Copied and renamed: COMP_21_19_mask.txt -> b_COMP_21_19.txt\n",
            "Copied and renamed: COMP_21_20_mask.txt -> b_COMP_21_20.txt\n",
            "Copied and renamed: COMP_21_21_mask.txt -> b_COMP_21_21.txt\n",
            "Copied and renamed: COMP_21_23_mask.txt -> b_COMP_21_23.txt\n",
            "Copied and renamed: COMP_21_25_mask.txt -> b_COMP_21_25.txt\n",
            "Copied and renamed: COMP_21_27_mask.txt -> b_COMP_21_27.txt\n",
            "Copied and renamed: COMP_21_28_mask.txt -> b_COMP_21_28.txt\n",
            "Copied and renamed: COMP_21_29_mask.txt -> b_COMP_21_29.txt\n",
            "Copied and renamed: COMP_21_30_mask.txt -> b_COMP_21_30.txt\n",
            "Copied and renamed: COMP_21_31_mask.txt -> b_COMP_21_31.txt\n",
            "Copied and renamed: COMP_21_34_mask.txt -> b_COMP_21_34.txt\n",
            "Copied and renamed: COMP_21_35_mask.txt -> b_COMP_21_35.txt\n",
            "Copied and renamed: COMP_21_37_mask.txt -> b_COMP_21_37.txt\n",
            "Copied and renamed: COMP_21_39_mask.txt -> b_COMP_21_39.txt\n",
            "Copied and renamed: COMP_21_41_mask.txt -> b_COMP_21_41.txt\n",
            "Copied and renamed: COMP_21_42_mask.txt -> b_COMP_21_42.txt\n",
            "Copied and renamed: COMP_21_43_mask.txt -> b_COMP_21_43.txt\n",
            "Copied and renamed: COMP_21_45_mask.txt -> b_COMP_21_45.txt\n",
            "Copied and renamed: COMP_21_47_mask.txt -> b_COMP_21_47.txt\n",
            "Copied and renamed: COMP_21_48_mask.txt -> b_COMP_21_48.txt\n",
            "Copied and renamed: COMP_0_1_mask.txt -> b_COMP_0_1.txt\n",
            "Copied and renamed: COMP_0_3_mask.txt -> b_COMP_0_3.txt\n",
            "Copied and renamed: COMP_0_5_mask.txt -> b_COMP_0_5.txt\n",
            "Copied and renamed: COMP_0_6_mask.txt -> b_COMP_0_6.txt\n",
            "Copied and renamed: COMP_0_8_mask.txt -> b_COMP_0_8.txt\n",
            "Copied and renamed: COMP_0_11_mask.txt -> b_COMP_0_11.txt\n",
            "Copied and renamed: COMP_9_31_mask.txt -> b_COMP_9_31.txt\n",
            "Copied and renamed: COMP_9_16_mask.txt -> b_COMP_9_16.txt\n",
            "Copied and renamed: COMP_8_2_mask.txt -> b_COMP_8_2.txt\n",
            "Copied and renamed: COMP_8_16_mask.txt -> b_COMP_8_16.txt\n",
            "Copied and renamed: COMP_7_4_mask.txt -> b_COMP_7_4.txt\n",
            "Copied and renamed: COMP_5_9_mask.txt -> b_COMP_5_9.txt\n",
            "Copied and renamed: COMP_5_65_mask.txt -> b_COMP_5_65.txt\n",
            "Copied and renamed: COMP_5_6_mask.txt -> b_COMP_5_6.txt\n",
            "Copied and renamed: COMP_5_51_mask.txt -> b_COMP_5_51.txt\n",
            "Copied and renamed: COMP_5_5_mask.txt -> b_COMP_5_5.txt\n",
            "Copied and renamed: COMP_5_49_mask.txt -> b_COMP_5_49.txt\n",
            "Copied and renamed: COMP_5_45_mask.txt -> b_COMP_5_45.txt\n",
            "Copied and renamed: COMP_5_41_mask.txt -> b_COMP_5_41.txt\n",
            "Copied and renamed: COMP_5_38_mask.txt -> b_COMP_5_38.txt\n",
            "Copied and renamed: COMP_5_37_mask.txt -> b_COMP_5_37.txt\n",
            "Copied and renamed: COMP_5_3_mask.txt -> b_COMP_5_3.txt\n",
            "Copied and renamed: COMP_3_7_mask.txt -> b_COMP_3_7.txt\n",
            "Copied and renamed: COMP_3_5_mask.txt -> b_COMP_3_5.txt\n",
            "Copied and renamed: COMP_3_14_mask.txt -> b_COMP_3_14.txt\n",
            "Copied and renamed: COMP_3_10_mask.txt -> b_COMP_3_10.txt\n",
            "Copied and renamed: COMP_2_2_mask.txt -> b_COMP_2_2.txt\n",
            "Copied and renamed: COMP_2_1_mask.txt -> b_COMP_2_1.txt\n",
            "Copied and renamed: COMP_21_38_mask.txt -> b_COMP_21_38.txt\n",
            "Copied and renamed: COMP_17_7_mask.txt -> b_COMP_17_7.txt\n",
            "Copied and renamed: COMP_17_12_mask.txt -> b_COMP_17_12.txt\n",
            "Copied and renamed: COMP_17_10_mask.txt -> b_COMP_17_10.txt\n",
            "Copied and renamed: COMP_15_11_mask.txt -> b_COMP_15_11.txt\n",
            "Copied and renamed: COMP_15_10_mask.txt -> b_COMP_15_10.txt\n",
            "Copied and renamed: COMP_14_26_mask.txt -> b_COMP_14_26.txt\n",
            "Copied and renamed: COMP_14_23_mask.txt -> b_COMP_14_23.txt\n",
            "Copied and renamed: COMP_14_11_mask.txt -> b_COMP_14_11.txt\n",
            "Copied and renamed: COMP_13_8_mask.txt -> b_COMP_13_8.txt\n",
            "Copied and renamed: COMP_13_6_mask.txt -> b_COMP_13_6.txt\n",
            "Copied and renamed: COMP_13_29_mask.txt -> b_COMP_13_29.txt\n",
            "Copied and renamed: COMP_12_18_mask.txt -> b_COMP_12_18.txt\n",
            "Copied and renamed: COMP_11_73_mask.txt -> b_COMP_11_73.txt\n",
            "Copied and renamed: COMP_11_70_mask.txt -> b_COMP_11_70.txt\n",
            "Copied and renamed: COMP_11_68_mask.txt -> b_COMP_11_68.txt\n",
            "Copied and renamed: COMP_11_64_mask.txt -> b_COMP_11_64.txt\n",
            "Copied and renamed: COMP_11_63_mask.txt -> b_COMP_11_63.txt\n",
            "Copied and renamed: COMP_10_8_mask.txt -> b_COMP_10_8.txt\n",
            "Copied and renamed: COMP_10_3_mask.txt -> b_COMP_10_3.txt\n",
            "Copied and renamed: COMP_10_17_mask.txt -> b_COMP_10_17.txt\n",
            "Copied and renamed: COMP_10_19_mask.txt -> b_COMP_10_19.txt\n",
            "Copied and renamed: COMP_10_18_mask.txt -> b_COMP_10_18.txt\n",
            "Copied and renamed: COMP_10_11_mask.txt -> b_COMP_10_11.txt\n"
          ]
        }
      ],
      "source": [
        "\n",
        "import os\n",
        "import shutil\n",
        "\n",
        "source_directory = \"/content/drive/MyDrive/dataset/labels/train\"\n",
        "\n",
        "target_directory = \"/content/drive/MyDrive/dataset/labels/train_new\"\n",
        "\n",
        "os.makedirs(target_directory, exist_ok=True)\n",
        "\n",
        "for filename in os.listdir(source_directory):\n",
        "    old_file_path = os.path.join(source_directory, filename)\n",
        "\n",
        "    if os.path.isfile(old_file_path) and \"mask\" in filename:\n",
        "        new_filename = filename.replace(\"_mask\", \"\")\n",
        "        new_filename = f\"b_{new_filename}\"\n",
        "        new_file_path = os.path.join(target_directory, new_filename)\n",
        "\n",
        "        shutil.copy(old_file_path, new_file_path)\n",
        "        print(f\"Copied and renamed: {filename} -> {new_filename}\")\n"
      ]
    },
    {
      "cell_type": "markdown",
      "source": [
        "# Visualizing the Labels\n"
      ],
      "metadata": {
        "id": "VM9AYYzftCPm"
      }
    },
    {
      "cell_type": "code",
      "source": [
        "#Visualizing the labels by overlaying the bounding boxes over the images\n",
        "\n",
        "import cv2\n",
        "from PIL import Image\n",
        "import numpy as np\n",
        "from google.colab.patches import cv2_imshow\n",
        "\n",
        "def visualize_bb(img_path,annotation_path,save_path):\n",
        "  img = Image.open(img_path)\n",
        "  img_np = np.array(img)\n",
        "\n",
        "  img_height, img_width = img_np.shape[:2]\n",
        "\n",
        "  with open(annotation_path , 'r') as f:\n",
        "    annotation = f.readlines()\n",
        "\n",
        "    for line in annotation:\n",
        "      x,y,w,h = map(float, line.split()[1:5])\n",
        "\n",
        "      x = x * img_width\n",
        "      y = y * img_height\n",
        "      w = w * img_width\n",
        "      h = h * img_height\n",
        "\n",
        "      x_min = int(x-w/2)\n",
        "      y_min = int(y-h/2)\n",
        "      x_max = int(x+w/2)\n",
        "      y_max = int(y+h/2)\n",
        "\n",
        "\n",
        "      cv2.rectangle(img_np,\n",
        "                    (x_min,y_min),\n",
        "                    (x_max,y_max),\n",
        "                    (255,0,0),\n",
        "                    1)\n",
        "      cv2.imwrite(save_path, img_np)\n",
        "\n",
        "\n"
      ],
      "metadata": {
        "id": "Uo3dcY_Vu7dj"
      },
      "execution_count": null,
      "outputs": []
    },
    {
      "cell_type": "code",
      "source": [
        "# The labels look fairly okay. Lets do this for all the images and masks\n",
        "import os\n",
        "\n",
        "dest = '/content/drive/MyDrive/dataset_with_boxes_visualized/val'\n",
        "train_img_src = '/content/drive/MyDrive/major_proj/dataset_original_tiff/images/val'\n",
        "train_label_src = '/content/drive/MyDrive/major_proj/dataset_original_tiff/labels/val'\n",
        "\n",
        "if not os.path.exists(dest):\n",
        "  os.makedirs(dest)\n",
        "\n",
        "for eachfile in os.listdir(train_label_src):\n",
        "  file_path = os.path.join(train_label_src, eachfile)\n",
        "  img_path = os.path.join(train_img_src, eachfile.replace('txt','tiff'))\n",
        "  dest_path = os.path.join(dest,eachfile.replace('txt','png'))\n",
        "\n",
        "  visualize_bb(img_path,file_path,dest_path)\n"
      ],
      "metadata": {
        "id": "NH-StGVdHvA1"
      },
      "execution_count": null,
      "outputs": []
    },
    {
      "cell_type": "markdown",
      "source": [
        "# Training the Data\n"
      ],
      "metadata": {
        "id": "-LZ-uE_cvA3f"
      }
    },
    {
      "cell_type": "markdown",
      "source": [
        "# Cloning the YOLOv9 Repository and Downloading the pretrained weights"
      ],
      "metadata": {
        "id": "YHLiK9X_sAiy"
      }
    },
    {
      "cell_type": "code",
      "execution_count": null,
      "metadata": {
        "id": "PZllLPoklc94"
      },
      "outputs": [],
      "source": [
        "!git clone https://github.com/WongKinYiu/yolov9.git\n",
        "%cd yolov9\n",
        "!pip install -r requirements.txt"
      ]
    },
    {
      "cell_type": "code",
      "execution_count": null,
      "metadata": {
        "colab": {
          "base_uri": "https://localhost:8080/"
        },
        "id": "gpDvBqr3r8u-",
        "outputId": "c13db827-156a-463d-8da4-4705c0b8f212"
      },
      "outputs": [
        {
          "name": "stdout",
          "output_type": "stream",
          "text": [
            "shell-init: error retrieving current directory: getcwd: cannot access parent directories: No such file or directory\n",
            "wget: missing URL\n",
            "Usage: wget [OPTION]... [URL]...\n",
            "\n",
            "Try `wget --help' for more options.\n",
            "shell-init: error retrieving current directory: getcwd: cannot access parent directories: No such file or directory\n",
            "wget: missing URL\n",
            "Usage: wget [OPTION]... [URL]...\n",
            "\n",
            "Try `wget --help' for more options.\n",
            "shell-init: error retrieving current directory: getcwd: cannot access parent directories: No such file or directory\n",
            "wget: missing URL\n",
            "Usage: wget [OPTION]... [URL]...\n",
            "\n",
            "Try `wget --help' for more options.\n",
            "shell-init: error retrieving current directory: getcwd: cannot access parent directories: No such file or directory\n",
            "wget: missing URL\n",
            "Usage: wget [OPTION]... [URL]...\n",
            "\n",
            "Try `wget --help' for more options.\n"
          ]
        }
      ],
      "source": [
        "#Downloading the YOLOv9 and GELAN Pretrained Weights\n",
        "\n",
        "!wget -P  https://github.com/WongKinYiu/yolov9/releases/download/v0.1/yolov9-e.pt\n",
        "!wget -P https://github.com/WongKinYiu/yolov9/releases/download/v0.1/yolov9-c.pt\n",
        "!wget -P https://github.com/WongKinYiu/yolov9/releases/download/v0.1/gelan-e.pt\n",
        "!wget -P https://github.com/WongKinYiu/yolov9/releases/download/v0.1/gelan-c.pt\n"
      ]
    },
    {
      "cell_type": "code",
      "execution_count": null,
      "metadata": {
        "colab": {
          "base_uri": "https://localhost:8080/"
        },
        "id": "fw9P8tsosjI8",
        "outputId": "75e977bf-02ec-4723-d404-adaafc804c41"
      },
      "outputs": [
        {
          "output_type": "stream",
          "name": "stdout",
          "text": [
            "/content/drive/MyDrive/major_proj/yolov9\n"
          ]
        }
      ],
      "source": [
        "%cd '/content/drive/MyDrive/major_proj/yolov9'"
      ]
    },
    {
      "cell_type": "markdown",
      "source": [
        "# Training"
      ],
      "metadata": {
        "id": "xCMJD_OLsW30"
      }
    },
    {
      "cell_type": "code",
      "execution_count": null,
      "metadata": {
        "colab": {
          "base_uri": "https://localhost:8080/"
        },
        "id": "S44qnVIFs-hT",
        "outputId": "10f53c22-d749-49a1-d5f9-3ef784374a9d"
      },
      "outputs": [
        {
          "output_type": "stream",
          "name": "stdout",
          "text": [
            "2025-01-22 04:28:20.340938: E external/local_xla/xla/stream_executor/cuda/cuda_fft.cc:485] Unable to register cuFFT factory: Attempting to register factory for plugin cuFFT when one has already been registered\n",
            "2025-01-22 04:28:20.379841: E external/local_xla/xla/stream_executor/cuda/cuda_dnn.cc:8454] Unable to register cuDNN factory: Attempting to register factory for plugin cuDNN when one has already been registered\n",
            "2025-01-22 04:28:20.391650: E external/local_xla/xla/stream_executor/cuda/cuda_blas.cc:1452] Unable to register cuBLAS factory: Attempting to register factory for plugin cuBLAS when one has already been registered\n",
            "2025-01-22 04:28:20.425790: I tensorflow/core/platform/cpu_feature_guard.cc:210] This TensorFlow binary is optimized to use available CPU instructions in performance-critical operations.\n",
            "To enable the following instructions: AVX2 FMA, in other operations, rebuild TensorFlow with the appropriate compiler flags.\n",
            "2025-01-22 04:28:22.641835: W tensorflow/compiler/tf2tensorrt/utils/py_utils.cc:38] TF-TRT Warning: Could not find TensorRT\n",
            "\u001b[34m\u001b[1mwandb\u001b[0m: (1) Create a W&B account\n",
            "\u001b[34m\u001b[1mwandb\u001b[0m: (2) Use an existing W&B account\n",
            "\u001b[34m\u001b[1mwandb\u001b[0m: (3) Don't visualize my results\n",
            "\u001b[34m\u001b[1mwandb\u001b[0m: Enter your choice: (30 second timeout) Traceback (most recent call last):\n",
            "  File \"/content/drive/MyDrive/major_proj/yolov9/train.py\", line 37, in <module>\n",
            "  File \"/content/drive/MyDrive/major_proj/yolov9/utils/loggers/__init__.py\", line 24, in <module>\n",
            "    wandb_login_success = wandb.login(timeout=30)\n",
            "                          ^^^^^^^^^^^^^^^^^^^^^^^\n",
            "  File \"/usr/local/lib/python3.11/dist-packages/wandb/sdk/wandb_login.py\", line 79, in login\n",
            "    configured = _login(\n",
            "                 ^^^^^^^\n",
            "  File \"/usr/local/lib/python3.11/dist-packages/wandb/sdk/wandb_login.py\", line 337, in _login\n",
            "    wlogin.prompt_api_key()\n",
            "  File \"/usr/local/lib/python3.11/dist-packages/wandb/sdk/wandb_login.py\", line 264, in prompt_api_key\n",
            "    key, status = self._prompt_api_key()\n",
            "                  ^^^^^^^^^^^^^^^^^^^^^^\n",
            "  File \"/usr/local/lib/python3.11/dist-packages/wandb/sdk/wandb_login.py\", line 243, in _prompt_api_key\n",
            "    key = apikey.prompt_api_key(\n",
            "          ^^^^^^^^^^^^^^^^^^^^^^\n",
            "  File \"/usr/local/lib/python3.11/dist-packages/wandb/sdk/lib/apikey.py\", line 122, in prompt_api_key\n",
            "    result = prompt_choices(\n",
            "             ^^^^^^^^^^^^^^^\n",
            "  File \"/usr/local/lib/python3.11/dist-packages/wandb/util.py\", line 1273, in prompt_choices\n",
            "    choice = _prompt_choice(input_timeout=input_timeout, jupyter=jupyter)\n",
            "             ^^^^^^^^^^^^^^^^^^^^^^^^^^^^^^^^^^^^^^^^^^^^^^^^^^^^^^^^^^^^\n",
            "  File \"/usr/local/lib/python3.11/dist-packages/wandb/util.py\", line 1258, in _prompt_choice\n",
            "    choice = input_fn(text, jupyter=jupyter)\n",
            "             ^^^^^^^^^^^^^^^^^^^^^^^^^^^^^^^\n",
            "  File \"/usr/local/lib/python3.11/dist-packages/wandb/sdk/lib/timed_input.py\", line 120, in timed_input\n",
            "    return _timed_input(prompt=prompt, timeout=timeout)\n",
            "           ^^^^^^^^^^^^^^^^^^^^^^^^^^^^^^^^^^^^^^^^^^^^\n",
            "  File \"/usr/local/lib/python3.11/dist-packages/wandb/sdk/lib/timed_input.py\", line 26, in _posix_timed_input\n",
            "    events = sel.select(timeout=timeout)\n",
            "             ^^^^^^^^^^^^^^^^^^^^^^^^^^^\n",
            "  File \"/usr/lib/python3.11/selectors.py\", line 468, in select\n",
            "    fd_event_list = self._selector.poll(timeout, max_ev)\n",
            "                    ^^^^^^^^^^^^^^^^^^^^^^^^^^^^^^^^^^^^\n",
            "KeyboardInterrupt\n",
            "^C\n"
          ]
        }
      ],
      "source": [
        "\n",
        "!python train.py \\\n",
        "--batch 4 --epochs 500 --img 416 --device 0 --min-items 0 --close-mosaic 15 \\\n",
        "--data '/content/drive/MyDrive/major_proj/dataset_original_tiff/data.yaml' \\\n",
        "--weights '/content/drive/MyDrive/major_proj/yolov9/weights/gelan-e.pt' \\\n",
        "--cfg models/detect/gelan-e.yaml \\\n",
        "--hyp hyp.scratch-high.yaml"
      ]
    },
    {
      "cell_type": "markdown",
      "source": [
        "# Inference"
      ],
      "metadata": {
        "id": "HUDLGbaGsZKM"
      }
    },
    {
      "cell_type": "code",
      "execution_count": null,
      "metadata": {
        "id": "SbHpsgL-tCDo",
        "colab": {
          "base_uri": "https://localhost:8080/"
        },
        "outputId": "edfeb63e-7075-4583-fa92-5a6f417db6b9"
      },
      "outputs": [
        {
          "output_type": "stream",
          "name": "stdout",
          "text": [
            "\u001b[34m\u001b[1mdetect: \u001b[0mweights=['/content/drive/MyDrive/major_proj/yolov9/runs/train/exp28/weights/best.pt'], source=/content/drive/MyDrive/major_proj/dataset_original_tiff/images/test, data=data/coco128.yaml, imgsz=[416, 416], conf_thres=0.1, iou_thres=0.45, max_det=1000, device=0, view_img=False, save_txt=False, save_conf=False, save_crop=False, nosave=False, classes=None, agnostic_nms=False, augment=False, visualize=False, update=False, project=runs/detect, name=exp, exist_ok=False, line_thickness=1, hide_labels=True, hide_conf=False, half=False, dnn=False, vid_stride=1\n",
            "YOLO 🚀 v0.1-104-g5b1ea9a Python-3.11.11 torch-2.5.1+cu121 CUDA:0 (Tesla T4, 15102MiB)\n",
            "\n",
            "/content/drive/MyDrive/major_proj/yolov9/models/experimental.py:243: FutureWarning: You are using `torch.load` with `weights_only=False` (the current default value), which uses the default pickle module implicitly. It is possible to construct malicious pickle data which will execute arbitrary code during unpickling (See https://github.com/pytorch/pytorch/blob/main/SECURITY.md#untrusted-models for more details). In a future release, the default value for `weights_only` will be flipped to `True`. This limits the functions that could be executed during unpickling. Arbitrary objects will no longer be allowed to be loaded via this mode unless they are explicitly allowlisted by the user via `torch.serialization.add_safe_globals`. We recommend you start setting `weights_only=True` for any use case where you don't have full control of the loaded file. Please open an issue on GitHub for any issues related to this experimental feature.\n",
            "  ckpt = torch.load(attempt_download(w), map_location='cpu')  # load\n",
            "Fusing layers... \n",
            "gelan-c summary: 387 layers, 25227859 parameters, 0 gradients\n",
            "image 1/10 /content/drive/MyDrive/major_proj/dataset_original_tiff/images/test/0.tiff: 384x416 2 landslides, 62.3ms\n",
            "image 2/10 /content/drive/MyDrive/major_proj/dataset_original_tiff/images/test/1.tiff: 416x416 5 landslides, 30.1ms\n",
            "image 3/10 /content/drive/MyDrive/major_proj/dataset_original_tiff/images/test/2.tiff: 416x416 2 landslides, 29.1ms\n",
            "image 4/10 /content/drive/MyDrive/major_proj/dataset_original_tiff/images/test/3.tiff: 416x416 2 landslides, 29.1ms\n",
            "image 5/10 /content/drive/MyDrive/major_proj/dataset_original_tiff/images/test/4.tiff: 416x416 1 landslide, 29.1ms\n",
            "image 6/10 /content/drive/MyDrive/major_proj/dataset_original_tiff/images/test/5.tiff: 416x416 3 landslides, 29.1ms\n",
            "image 7/10 /content/drive/MyDrive/major_proj/dataset_original_tiff/images/test/6.tiff: 384x416 3 landslides, 27.1ms\n",
            "image 8/10 /content/drive/MyDrive/major_proj/dataset_original_tiff/images/test/7.tiff: 384x416 2 landslides, 26.0ms\n",
            "image 9/10 /content/drive/MyDrive/major_proj/dataset_original_tiff/images/test/8.tiff: 384x416 3 landslides, 26.0ms\n",
            "image 10/10 /content/drive/MyDrive/major_proj/dataset_original_tiff/images/test/9.tiff: 416x416 4 landslides, 30.0ms\n",
            "Speed: 0.5ms pre-process, 31.8ms inference, 82.2ms NMS per image at shape (1, 3, 416, 416)\n",
            "Results saved to \u001b[1mruns/detect/exp9\u001b[0m\n"
          ]
        }
      ],
      "source": [
        "!python detect.py \\\n",
        "--img 416 --conf 0.1 --device 0 \\\n",
        "--weights /content/drive/MyDrive/major_proj/yolov9/runs/train/exp28/weights/best.pt \\\n",
        "--source /content/drive/MyDrive/major_proj/dataset_original_tiff/images/test \\\n",
        "--line-thickness 1 \\\n",
        "--hide-labels\n",
        "\n",
        "import glob\n",
        "from IPython.display import Image, display\n",
        "\n",
        "for image_path in glob.glob(f'/content/drive/MyDrive/yolo/yolov9/runs/detect/exp8/*.jpg')[:3]:\n",
        "      display(Image(filename=image_path, width=600))\n",
        "      print(\"\\n\")"
      ]
    },
    {
      "cell_type": "code",
      "source": [],
      "metadata": {
        "id": "n3GCTGK6sUtb",
        "colab": {
          "base_uri": "https://localhost:8080/"
        },
        "outputId": "fec43572-8ea7-4cea-d34f-019aeb0639ad"
      },
      "execution_count": null,
      "outputs": [
        {
          "output_type": "stream",
          "name": "stdout",
          "text": [
            "2025-01-21 15:50:24.010205: E external/local_xla/xla/stream_executor/cuda/cuda_fft.cc:485] Unable to register cuFFT factory: Attempting to register factory for plugin cuFFT when one has already been registered\n",
            "2025-01-21 15:50:24.030354: E external/local_xla/xla/stream_executor/cuda/cuda_dnn.cc:8454] Unable to register cuDNN factory: Attempting to register factory for plugin cuDNN when one has already been registered\n",
            "2025-01-21 15:50:24.036468: E external/local_xla/xla/stream_executor/cuda/cuda_blas.cc:1452] Unable to register cuBLAS factory: Attempting to register factory for plugin cuBLAS when one has already been registered\n",
            "2025-01-21 15:50:24.052146: I tensorflow/core/platform/cpu_feature_guard.cc:210] This TensorFlow binary is optimized to use available CPU instructions in performance-critical operations.\n",
            "To enable the following instructions: AVX2 FMA, in other operations, rebuild TensorFlow with the appropriate compiler flags.\n",
            "2025-01-21 15:50:25.312628: W tensorflow/compiler/tf2tensorrt/utils/py_utils.cc:38] TF-TRT Warning: Could not find TensorRT\n",
            "\u001b[34m\u001b[1mwandb\u001b[0m: (1) Create a W&B account\n",
            "\u001b[34m\u001b[1mwandb\u001b[0m: (2) Use an existing W&B account\n",
            "\u001b[34m\u001b[1mwandb\u001b[0m: (3) Don't visualize my results\n",
            "\u001b[34m\u001b[1mwandb\u001b[0m: Enter your choice: (30 second timeout) \n",
            "\u001b[34m\u001b[1mwandb\u001b[0m: W&B disabled due to login timeout.\n",
            "usage: train.py [-h] [--weights WEIGHTS] [--cfg CFG] [--data DATA] [--hyp HYP] [--epochs EPOCHS]\n",
            "                [--batch-size BATCH_SIZE] [--imgsz IMGSZ] [--rect] [--resume [RESUME]] [--nosave]\n",
            "                [--noval] [--noautoanchor] [--noplots] [--evolve [EVOLVE]] [--bucket BUCKET]\n",
            "                [--cache [CACHE]] [--image-weights] [--device DEVICE] [--multi-scale]\n",
            "                [--single-cls] [--optimizer {SGD,Adam,AdamW,LION}] [--sync-bn] [--workers WORKERS]\n",
            "                [--project PROJECT] [--name NAME] [--exist-ok] [--quad] [--cos-lr] [--flat-cos-lr]\n",
            "                [--fixed-lr] [--label-smoothing LABEL_SMOOTHING] [--patience PATIENCE]\n",
            "                [--freeze FREEZE [FREEZE ...]] [--save-period SAVE_PERIOD] [--seed SEED]\n",
            "                [--local_rank LOCAL_RANK] [--min-items MIN_ITEMS] [--close-mosaic CLOSE_MOSAIC]\n",
            "                [--entity ENTITY] [--upload_dataset [UPLOAD_DATASET]]\n",
            "                [--bbox_interval BBOX_INTERVAL] [--artifact_alias ARTIFACT_ALIAS]\n",
            "train.py: error: unrecognized arguments: --in 0\n"
          ]
        }
      ]
    },
    {
      "cell_type": "code",
      "source": [],
      "metadata": {
        "id": "6TOCRwDHjgUi"
      },
      "execution_count": null,
      "outputs": []
    }
  ],
  "metadata": {
    "colab": {
      "provenance": [],
      "gpuType": "T4"
    },
    "kernelspec": {
      "display_name": "Python 3",
      "name": "python3"
    },
    "language_info": {
      "name": "python"
    },
    "accelerator": "GPU"
  },
  "nbformat": 4,
  "nbformat_minor": 0
}